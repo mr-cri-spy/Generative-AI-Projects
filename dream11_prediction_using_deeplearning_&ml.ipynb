
{
  "nbformat": 4,
  "nbformat_minor": 0,
  "metadata": {
    "colab": {
      "provenance": [],
      "authorship_tag": "ABX9TyNEIbXJ6SzQx9Sut/AxS0Hz",
      "include_colab_link": true
    },
    "kernelspec": {
      "name": "python3",
      "display_name": "Python 3"
    },
    "language_info": {
      "name": "python"
    }
  },
  "cells": [
    {
      "cell_type": "markdown",
      "metadata": {
        "id": "view-in-github",
        "colab_type": "text"
      },
      "source": [
        "<a href=\"https://colab.research.google.com/github/mr-cri-spy/Generative-AI-Projects/blob/main/dream11_prediction_using_deeplearning_%26ml.ipynb\" target=\"_parent\"><img src=\"https://colab.research.google.com/assets/colab-badge.svg\" alt=\"Open In Colab\"/></a>"
      ]
    },
    {
      "cell_type": "code",
      "execution_count": null,
      "metadata": {
        "id": "0GdSaNed6GsP"
      },
      "outputs": [],
      "source": []
    },
    {
      "cell_type": "markdown",
      "source": [
        "Installing Dependencies"
      ],
      "metadata": {
        "id": "a4w7L94z6I5d"
      }
    },
    {
      "cell_type": "code",
      "source": [
        "!pip install pandas numpy tensorflow keras gym cricketpy beautifulsoup4 requests\n"
      ],
      "metadata": {
        "colab": {
          "base_uri": "https://localhost:8080/"
        },
        "id": "l9D06CWq6Lti",
        "outputId": "ae25cdfe-c053-42f6-d067-5d4e9dffb87f"
      },
      "execution_count": 1,
      "outputs": [
        {
          "output_type": "stream",
          "name": "stdout",
          "text": [
            "Requirement already satisfied: pandas in /usr/local/lib/python3.11/dist-packages (2.2.2)\n",
            "Requirement already satisfied: numpy in /usr/local/lib/python3.11/dist-packages (2.0.2)\n",
            "Requirement already satisfied: tensorflow in /usr/local/lib/python3.11/dist-packages (2.18.0)\n",
            "Requirement already satisfied: keras in /usr/local/lib/python3.11/dist-packages (3.8.0)\n",
            "Requirement already satisfied: gym in /usr/local/lib/python3.11/dist-packages (0.25.2)\n",
            "Collecting cricketpy\n",
            "  Downloading cricketpy-1.2.6.tar.gz (3.2 kB)\n",
            "  Preparing metadata (setup.py) ... \u001b[?25l\u001b[?25hdone\n",
            "Requirement already satisfied: beautifulsoup4 in /usr/local/lib/python3.11/dist-packages (4.13.3)\n",
            "Requirement already satisfied: requests in /usr/local/lib/python3.11/dist-packages (2.32.3)\n",
            "Requirement already satisfied: python-dateutil>=2.8.2 in /usr/local/lib/python3.11/dist-packages (from pandas) (2.8.2)\n",
            "Requirement already satisfied: pytz>=2020.1 in /usr/local/lib/python3.11/dist-packages (from pandas) (2025.1)\n",
            "Requirement already satisfied: tzdata>=2022.7 in /usr/local/lib/python3.11/dist-packages (from pandas) (2025.1)\n",
            "Requirement already satisfied: absl-py>=1.0.0 in /usr/local/lib/python3.11/dist-packages (from tensorflow) (1.4.0)\n",
            "Requirement already satisfied: astunparse>=1.6.0 in /usr/local/lib/python3.11/dist-packages (from tensorflow) (1.6.3)\n",
            "Requirement already satisfied: flatbuffers>=24.3.25 in /usr/local/lib/python3.11/dist-packages (from tensorflow) (25.2.10)\n",
            "Requirement already satisfied: gast!=0.5.0,!=0.5.1,!=0.5.2,>=0.2.1 in /usr/local/lib/python3.11/dist-packages (from tensorflow) (0.6.0)\n",
            "Requirement already satisfied: google-pasta>=0.1.1 in /usr/local/lib/python3.11/dist-packages (from tensorflow) (0.2.0)\n",
            "Requirement already satisfied: libclang>=13.0.0 in /usr/local/lib/python3.11/dist-packages (from tensorflow) (18.1.1)\n",
            "Requirement already satisfied: opt-einsum>=2.3.2 in /usr/local/lib/python3.11/dist-packages (from tensorflow) (3.4.0)\n",
            "Requirement already satisfied: packaging in /usr/local/lib/python3.11/dist-packages (from tensorflow) (24.2)\n",
            "Requirement already satisfied: protobuf!=4.21.0,!=4.21.1,!=4.21.2,!=4.21.3,!=4.21.4,!=4.21.5,<6.0.0dev,>=3.20.3 in /usr/local/lib/python3.11/dist-packages (from tensorflow) (5.29.4)\n",
            "Requirement already satisfied: setuptools in /usr/local/lib/python3.11/dist-packages (from tensorflow) (75.1.0)\n",
            "Requirement already satisfied: six>=1.12.0 in /usr/local/lib/python3.11/dist-packages (from tensorflow) (1.17.0)\n",
            "Requirement already satisfied: termcolor>=1.1.0 in /usr/local/lib/python3.11/dist-packages (from tensorflow) (2.5.0)\n",
            "Requirement already satisfied: typing-extensions>=3.6.6 in /usr/local/lib/python3.11/dist-packages (from tensorflow) (4.12.2)\n",
            "Requirement already satisfied: wrapt>=1.11.0 in /usr/local/lib/python3.11/dist-packages (from tensorflow) (1.17.2)\n",
            "Requirement already satisfied: grpcio<2.0,>=1.24.3 in /usr/local/lib/python3.11/dist-packages (from tensorflow) (1.71.0)\n",
            "Requirement already satisfied: tensorboard<2.19,>=2.18 in /usr/local/lib/python3.11/dist-packages (from tensorflow) (2.18.0)\n",
            "Requirement already satisfied: h5py>=3.11.0 in /usr/local/lib/python3.11/dist-packages (from tensorflow) (3.13.0)\n",
            "Requirement already satisfied: ml-dtypes<0.5.0,>=0.4.0 in /usr/local/lib/python3.11/dist-packages (from tensorflow) (0.4.1)\n",
            "Requirement already satisfied: tensorflow-io-gcs-filesystem>=0.23.1 in /usr/local/lib/python3.11/dist-packages (from tensorflow) (0.37.1)\n",
            "Requirement already satisfied: rich in /usr/local/lib/python3.11/dist-packages (from keras) (13.9.4)\n",
            "Requirement already satisfied: namex in /usr/local/lib/python3.11/dist-packages (from keras) (0.0.8)\n",
            "Requirement already satisfied: optree in /usr/local/lib/python3.11/dist-packages (from keras) (0.14.1)\n",
            "Requirement already satisfied: cloudpickle>=1.2.0 in /usr/local/lib/python3.11/dist-packages (from gym) (3.1.1)\n",
            "Requirement already satisfied: gym_notices>=0.0.4 in /usr/local/lib/python3.11/dist-packages (from gym) (0.0.8)\n",
            "Collecting criapi (from cricketpy)\n",
            "  Downloading criapi-1.1.0.tar.gz (2.6 kB)\n",
            "  Preparing metadata (setup.py) ... \u001b[?25l\u001b[?25hdone\n",
            "Collecting pyfiglet (from cricketpy)\n",
            "  Downloading pyfiglet-1.0.2-py3-none-any.whl.metadata (7.1 kB)\n",
            "Requirement already satisfied: soupsieve>1.2 in /usr/local/lib/python3.11/dist-packages (from beautifulsoup4) (2.6)\n",
            "Requirement already satisfied: charset-normalizer<4,>=2 in /usr/local/lib/python3.11/dist-packages (from requests) (3.4.1)\n",
            "Requirement already satisfied: idna<4,>=2.5 in /usr/local/lib/python3.11/dist-packages (from requests) (3.10)\n",
            "Requirement already satisfied: urllib3<3,>=1.21.1 in /usr/local/lib/python3.11/dist-packages (from requests) (2.3.0)\n",
            "Requirement already satisfied: certifi>=2017.4.17 in /usr/local/lib/python3.11/dist-packages (from requests) (2025.1.31)\n",
            "Requirement already satisfied: wheel<1.0,>=0.23.0 in /usr/local/lib/python3.11/dist-packages (from astunparse>=1.6.0->tensorflow) (0.45.1)\n",
            "Requirement already satisfied: markdown>=2.6.8 in /usr/local/lib/python3.11/dist-packages (from tensorboard<2.19,>=2.18->tensorflow) (3.7)\n",
            "Requirement already satisfied: tensorboard-data-server<0.8.0,>=0.7.0 in /usr/local/lib/python3.11/dist-packages (from tensorboard<2.19,>=2.18->tensorflow) (0.7.2)\n",
            "Requirement already satisfied: werkzeug>=1.0.1 in /usr/local/lib/python3.11/dist-packages (from tensorboard<2.19,>=2.18->tensorflow) (3.1.3)\n",
            "Collecting bs4 (from criapi->cricketpy)\n",
            "  Downloading bs4-0.0.2-py2.py3-none-any.whl.metadata (411 bytes)\n",
            "Requirement already satisfied: markdown-it-py>=2.2.0 in /usr/local/lib/python3.11/dist-packages (from rich->keras) (3.0.0)\n",
            "Requirement already satisfied: pygments<3.0.0,>=2.13.0 in /usr/local/lib/python3.11/dist-packages (from rich->keras) (2.18.0)\n",
            "Requirement already satisfied: mdurl~=0.1 in /usr/local/lib/python3.11/dist-packages (from markdown-it-py>=2.2.0->rich->keras) (0.1.2)\n",
            "Requirement already satisfied: MarkupSafe>=2.1.1 in /usr/local/lib/python3.11/dist-packages (from werkzeug>=1.0.1->tensorboard<2.19,>=2.18->tensorflow) (3.0.2)\n",
            "Downloading pyfiglet-1.0.2-py3-none-any.whl (1.1 MB)\n",
            "\u001b[2K   \u001b[90m━━━━━━━━━━━━━━━━━━━━━━━━━━━━━━━━━━━━━━━━\u001b[0m \u001b[32m1.1/1.1 MB\u001b[0m \u001b[31m14.8 MB/s\u001b[0m eta \u001b[36m0:00:00\u001b[0m\n",
            "\u001b[?25hDownloading bs4-0.0.2-py2.py3-none-any.whl (1.2 kB)\n",
            "Building wheels for collected packages: cricketpy, criapi\n",
            "  Building wheel for cricketpy (setup.py) ... \u001b[?25l\u001b[?25hdone\n",
            "  Created wheel for cricketpy: filename=cricketpy-1.2.6-py3-none-any.whl size=3474 sha256=b499a9242ab59a994210fc6ae490eb4ac8bb5ab3e0a69eb00189f08a421749c1\n",
            "  Stored in directory: /root/.cache/pip/wheels/94/7c/70/a9d4381541cde3a0661eeb53e4ca9ba34f636d67e274604d45\n",
            "  Building wheel for criapi (setup.py) ... \u001b[?25l\u001b[?25hdone\n",
            "  Created wheel for criapi: filename=criapi-1.1.0-py3-none-any.whl size=2924 sha256=d25575cd93dfb427ae5444eed16bc1852637c0e59460ce91e47a5920cb3d37d9\n",
            "  Stored in directory: /root/.cache/pip/wheels/68/93/fa/a879b2da695876067aed162cb8a3a742f142579b6ee5cc3c27\n",
            "Successfully built cricketpy criapi\n",
            "Installing collected packages: pyfiglet, bs4, criapi, cricketpy\n",
            "Successfully installed bs4-0.0.2 criapi-1.1.0 cricketpy-1.2.6 pyfiglet-1.0.2\n"
          ]
        }
      ]
    },
    {
      "cell_type": "markdown",
      "source": [
        "Importing Libraries"
      ],
      "metadata": {
        "id": "zIMAZa6l6QN_"
      }
    },
    {
      "cell_type": "code",
      "source": [
        "import numpy as np\n",
        "import pandas as pd\n",
        "import tensorflow as tf\n",
        "from tensorflow.keras.models import Sequential\n",
        "from tensorflow.keras.layers import LSTM, Dense, Dropout\n",
        "import gym\n",
        "import requests\n",
        "from bs4 import BeautifulSoup\n"
      ],
      "metadata": {
        "id": "QH07fabW6Vrz"
      },
      "execution_count": 2,
      "outputs": []
    },
    {
      "cell_type": "markdown",
      "source": [
        "Scrape Real-Time Cricket Data"
      ],
      "metadata": {
        "id": "zlWMefVz6fMh"
      }
    },
    {
      "cell_type": "code",
      "source": [
        "def get_live_data():\n",
        "    url = \"https://www.espncricinfo.com/live-cricket-score\"  # Replace with correct API/website\n",
        "    response = requests.get(url)\n",
        "    soup = BeautifulSoup(response.text, \"html.parser\")\n",
        "\n",
        "    # Example: Extract player stats\n",
        "    players = soup.find_all(\"div\", class_=\"player-info\")\n",
        "    data = []\n",
        "    for player in players[:11]:  # Get top 11 players\n",
        "        name = player.find(\"span\", class_=\"player-name\").text\n",
        "        points = np.random.randint(20, 100)  # Mock Dream11 points (replace with real data)\n",
        "        data.append([name, points])\n",
        "\n",
        "    return pd.DataFrame(data, columns=[\"Player\", \"Points\"])\n",
        "\n",
        "# Get live data\n",
        "live_data = get_live_data()\n",
        "print(live_data)\n"
      ],
      "metadata": {
        "colab": {
          "base_uri": "https://localhost:8080/"
        },
        "id": "U5eaf6g06ggv",
        "outputId": "8bf7cea4-8945-461f-c802-b77b90df77a4"
      },
      "execution_count": 3,
      "outputs": [
        {
          "output_type": "stream",
          "name": "stdout",
          "text": [
            "Empty DataFrame\n",
            "Columns: [Player, Points]\n",
            "Index: []\n"
          ]
        }
      ]
    },
    {
      "cell_type": "markdown",
      "source": [
        "Preprocess Data for LSTM"
      ],
      "metadata": {
        "id": "u7uYqtfV60R7"
      }
    },
    {
      "cell_type": "code",
      "source": [
        "def preprocess_data(df):\n",
        "    df[\"Points\"] = df[\"Points\"].astype(float)  # Ensure numeric data\n",
        "    X = df[\"Points\"].values.reshape(-1, 1)  # Convert to NumPy array\n",
        "    return X\n",
        "\n",
        "X_train = preprocess_data(live_data)\n"
      ],
      "metadata": {
        "id": "o-AfUbP161a1"
      },
      "execution_count": null,
      "outputs": []
    },
    {
      "cell_type": "markdown",
      "source": [
        "\n",
        "Build LSTM Model"
      ],
      "metadata": {
        "id": "TqJofS3k64BC"
      }
    },
    {
      "cell_type": "code",
      "source": [
        "model = Sequential([\n",
        "    LSTM(50, activation=\"relu\", return_sequences=True, input_shape=(X_train.shape[0], 1)),\n",
        "    Dropout(0.2),\n",
        "    LSTM(50, activation=\"relu\"),\n",
        "    Dropout(0.2),\n",
        "    Dense(1)  # Predict Dream11 points\n",
        "])\n",
        "\n",
        "model.compile(optimizer=\"adam\", loss=\"mse\")\n",
        "model.summary()\n"
      ],
      "metadata": {
        "id": "x3oBkZzT69bM"
      },
      "execution_count": null,
      "outputs": []
    },
    {
      "cell_type": "markdown",
      "source": [
        "Train LSTM Model"
      ],
      "metadata": {
        "id": "mJe-ZfVw7AOZ"
      }
    },
    {
      "cell_type": "code",
      "source": [
        "# Simulating data for training\n",
        "X_train = np.array([X_train for _ in range(10)])  # Mock time-series\n",
        "y_train = np.random.randint(20, 100, size=(10,))  # Random points\n",
        "\n",
        "model.fit(X_train, y_train, epochs=10, batch_size=2)\n"
      ],
      "metadata": {
        "id": "JvuBNtDS7FNt"
      },
      "execution_count": null,
      "outputs": []
    },
    {
      "cell_type": "markdown",
      "source": [
        "Reinforcement Learning for Team Selection"
      ],
      "metadata": {
        "id": "AxsQS2St7Guv"
      }
    },
    {
      "cell_type": "code",
      "source": [
        "import gym\n",
        "from gym import spaces\n",
        "\n",
        "class Dream11Env(gym.Env):\n",
        "    def __init__(self):\n",
        "        super(Dream11Env, self).__init__()\n",
        "        self.action_space = spaces.Discrete(11)  # Select 11 players\n",
        "        self.observation_space = spaces.Box(low=0, high=100, shape=(11,))  # Player performance\n",
        "\n",
        "    def reset(self):\n",
        "        self.state = np.random.randint(20, 100, size=(11,))  # Mock performance\n",
        "        return self.state\n",
        "\n",
        "    def step(self, action):\n",
        "        reward = self.state[action]  # Reward based on selected player\n",
        "        done = True\n",
        "        return self.state, reward, done, {}\n",
        "\n",
        "env = Dream11Env()\n"
      ],
      "metadata": {
        "id": "pZa59te47KGr"
      },
      "execution_count": null,
      "outputs": []
    },
    {
      "cell_type": "markdown",
      "source": [
        "Train RL Model"
      ],
      "metadata": {
        "id": "YYLTZqMP7ON-"
      }
    },
    {
      "cell_type": "code",
      "source": [
        "import random\n",
        "\n",
        "def train_rl(env, episodes=100):\n",
        "    total_rewards = []\n",
        "    for ep in range(episodes):\n",
        "        state = env.reset()\n",
        "        action = random.randint(0, 10)  # Randomly select a player\n",
        "        _, reward, _, _ = env.step(action)\n",
        "        total_rewards.append(reward)\n",
        "        print(f\"Episode {ep+1}: Reward = {reward}\")\n",
        "\n",
        "train_rl(env)\n"
      ],
      "metadata": {
        "id": "g-EtunMK7Ua1"
      },
      "execution_count": 4,
      "outputs": []
    },
    {
      "cell_type": "markdown",
      "source": [
        "Final Step: Predict Best Players"
      ],
      "metadata": {
        "id": "h2F_RnRC7VQL"
      }
    },
    {
      "cell_type": "code",
      "source": [
        "def select_best_team():\n",
        "    live_data = get_live_data()\n",
        "    X_live = preprocess_data(live_data)\n",
        "    predictions = model.predict(np.array([X_live for _ in range(10)]))\n",
        "    live_data[\"Predicted Points\"] = predictions.mean(axis=0)\n",
        "    best_team = live_data.sort_values(by=\"Predicted Points\", ascending=False).head(11)\n",
        "    print(\"🏏 Best Dream11 Team:\")\n",
        "    print(best_team)\n",
        "\n",
        "select_best_team()"
      ],
      "metadata": {
        "id": "Z_Vc5ooA7Wz_"
      },
      "execution_count": null,
      "outputs": []
    }
  ]
}
